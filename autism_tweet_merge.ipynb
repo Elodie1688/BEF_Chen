{
 "cells": [
  {
   "cell_type": "code",
   "execution_count": 1,
   "metadata": {},
   "outputs": [],
   "source": [
    "import re\n",
    "import numpy as np\n",
    "import pandas as pd\n",
    "import langdetect\n",
    "from tqdm import tqdm\n",
    "from nltk.corpus import stopwords\n",
    "from langdetect import detect\n",
    "from textblob import TextBlob\n",
    "from nltk.tokenize import word_tokenize\n",
    "from nltk.stem import WordNetLemmatizer\n",
    "import torch\n",
    "from transformers import AutoModelForSequenceClassification, AutoTokenizer, pipeline"
   ]
  },
  {
   "cell_type": "code",
   "execution_count": 2,
   "metadata": {},
   "outputs": [
    {
     "name": "stderr",
     "output_type": "stream",
     "text": [
      "[nltk_data] Downloading package stopwords to\n",
      "[nltk_data]     /Users/xuenichen/nltk_data...\n",
      "[nltk_data]   Package stopwords is already up-to-date!\n",
      "[nltk_data] Downloading package punkt to /Users/xuenichen/nltk_data...\n",
      "[nltk_data]   Package punkt is already up-to-date!\n",
      "[nltk_data] Downloading package wordnet to\n",
      "[nltk_data]     /Users/xuenichen/nltk_data...\n",
      "[nltk_data]   Package wordnet is already up-to-date!\n"
     ]
    },
    {
     "data": {
      "text/plain": [
       "True"
      ]
     },
     "execution_count": 2,
     "metadata": {},
     "output_type": "execute_result"
    }
   ],
   "source": [
    "import nltk\n",
    "nltk.download('stopwords')\n",
    "nltk.download('punkt')\n",
    "nltk.download('wordnet')"
   ]
  },
  {
   "cell_type": "code",
   "execution_count": 3,
   "metadata": {},
   "outputs": [],
   "source": [
    "autism_file_path = '/Users/xuenichen/Desktop/BEF_Chen/dataset/Twitter Autism/autism.csv'\n",
    "control_file_path = '/Users/xuenichen/Desktop/BEF_Chen/dataset/Twitter Autism/control_group.csv'\n",
    "\n",
    "# Load the datasets\n",
    "autism_df = pd.read_csv(autism_file_path)\n",
    "control_df = pd.read_csv(control_file_path)"
   ]
  },
  {
   "cell_type": "code",
   "execution_count": 4,
   "metadata": {},
   "outputs": [
    {
     "name": "stdout",
     "output_type": "stream",
     "text": [
      "Missing values per column:\n",
      " User_ID                      0\n",
      "Profile description         33\n",
      "Account created              0\n",
      "Friends count                0\n",
      "Followers count              0\n",
      "Tweet date                   0\n",
      "Tweet id                     0\n",
      "Language                     0\n",
      "Tweet text                   1\n",
      "Hashtags               2161360\n",
      "Location                552315\n",
      "Reply count                  0\n",
      "Retweet count                0\n",
      "Like count                   0\n",
      "Source                       0\n",
      "dtype: int64\n",
      "Total number of rows: 3137952\n"
     ]
    }
   ],
   "source": [
    "# Check for missing values in all columns\n",
    "missing_values = autism_df.isnull().sum()\n",
    "print(\"Missing values per column:\\n\", missing_values)\n",
    "\n",
    "total_rows = autism_df.shape[0]\n",
    "print(\"Total number of rows:\", total_rows)"
   ]
  },
  {
   "cell_type": "code",
   "execution_count": 5,
   "metadata": {},
   "outputs": [
    {
     "name": "stdout",
     "output_type": "stream",
     "text": [
      "Missing values per column:\n",
      " User_ID                      0\n",
      "Profile description     477327\n",
      "Account created              0\n",
      "Friends count                0\n",
      "Followers count              0\n",
      "Tweet date                   0\n",
      "Tweet id                     0\n",
      "Language                     0\n",
      "Tweet text                  14\n",
      "Hashtags               3020503\n",
      "Location               1073027\n",
      "Reply count                  0\n",
      "Retweet count                0\n",
      "Like count                   0\n",
      "Source                       0\n",
      "dtype: int64\n",
      "Total number of rows: 3377518\n"
     ]
    }
   ],
   "source": [
    "# Check for missing values in all columns\n",
    "missing_values = control_df.isnull().sum()\n",
    "print(\"Missing values per column:\\n\", missing_values)\n",
    "\n",
    "total_rows = control_df.shape[0]\n",
    "print(\"Total number of rows:\", total_rows)"
   ]
  },
  {
   "cell_type": "markdown",
   "metadata": {},
   "source": [
    "# drop some columns and rows"
   ]
  },
  {
   "cell_type": "code",
   "execution_count": 6,
   "metadata": {},
   "outputs": [],
   "source": [
    "# Drop rows where 'User_ID' is NaN in autism_df\n",
    "autism_df = autism_df.dropna(subset=['User_ID'])\n",
    "\n",
    "# Drop rows where 'User_ID' is NaN in control_df\n",
    "control_df = control_df.dropna(subset=['User_ID'])"
   ]
  },
  {
   "cell_type": "code",
   "execution_count": 7,
   "metadata": {},
   "outputs": [
    {
     "data": {
      "text/html": [
       "<div>\n",
       "<style scoped>\n",
       "    .dataframe tbody tr th:only-of-type {\n",
       "        vertical-align: middle;\n",
       "    }\n",
       "\n",
       "    .dataframe tbody tr th {\n",
       "        vertical-align: top;\n",
       "    }\n",
       "\n",
       "    .dataframe thead th {\n",
       "        text-align: right;\n",
       "    }\n",
       "</style>\n",
       "<table border=\"1\" class=\"dataframe\">\n",
       "  <thead>\n",
       "    <tr style=\"text-align: right;\">\n",
       "      <th></th>\n",
       "      <th>User_ID</th>\n",
       "      <th>Profile description</th>\n",
       "      <th>Friends count</th>\n",
       "      <th>Followers count</th>\n",
       "      <th>Tweet date</th>\n",
       "      <th>Tweet id</th>\n",
       "      <th>Language</th>\n",
       "      <th>Tweet text</th>\n",
       "      <th>Hashtags</th>\n",
       "      <th>Location</th>\n",
       "      <th>Reply count</th>\n",
       "      <th>Retweet count</th>\n",
       "      <th>Like count</th>\n",
       "    </tr>\n",
       "  </thead>\n",
       "  <tbody>\n",
       "    <tr>\n",
       "      <th>0</th>\n",
       "      <td>b0b63865cbb84efcd5422e42d13c8672707c82185c2cdf...</td>\n",
       "      <td>🏈🥋✈️🌎</td>\n",
       "      <td>115</td>\n",
       "      <td>1175</td>\n",
       "      <td>2020-12-31 23:59:58+00:00</td>\n",
       "      <td>1344795463317389312</td>\n",
       "      <td>en</td>\n",
       "      <td>People come and go, yet they remain irreplacea...</td>\n",
       "      <td>NaN</td>\n",
       "      <td>NaN</td>\n",
       "      <td>0</td>\n",
       "      <td>0</td>\n",
       "      <td>0</td>\n",
       "    </tr>\n",
       "    <tr>\n",
       "      <th>1</th>\n",
       "      <td>978a4548ee471aa84938dd67052799fa586d45fe405517...</td>\n",
       "      <td>Official Dorset Live Weather twitter page. Liv...</td>\n",
       "      <td>2955</td>\n",
       "      <td>3053</td>\n",
       "      <td>2016-03-05 23:59:54+00:00</td>\n",
       "      <td>706268029634613248</td>\n",
       "      <td>en</td>\n",
       "      <td>Wind 1.2 mph WNW. Barometer 1013.4 hPa, Rising...</td>\n",
       "      <td>NaN</td>\n",
       "      <td>Dorset, England</td>\n",
       "      <td>0</td>\n",
       "      <td>0</td>\n",
       "      <td>0</td>\n",
       "    </tr>\n",
       "    <tr>\n",
       "      <th>2</th>\n",
       "      <td>5fbafd883c78ace9e30bccaa0caa350e797c625579aeba...</td>\n",
       "      <td>If its meant to be it will happen no matter wh...</td>\n",
       "      <td>207</td>\n",
       "      <td>9938</td>\n",
       "      <td>2014-08-12 23:59:55+00:00</td>\n",
       "      <td>499344560506433536</td>\n",
       "      <td>en</td>\n",
       "      <td>☆*:｡*:*｡:*☆\\nluke hemmings &amp;amp; michael cliff...</td>\n",
       "      <td>NaN</td>\n",
       "      <td>NaN</td>\n",
       "      <td>0</td>\n",
       "      <td>1</td>\n",
       "      <td>0</td>\n",
       "    </tr>\n",
       "    <tr>\n",
       "      <th>3</th>\n",
       "      <td>b8554e9a8fcc0eaf7485bfeb3ecc0d64373982d33f1660...</td>\n",
       "      <td>Welcome to my darkness, I've been here awhile.</td>\n",
       "      <td>113</td>\n",
       "      <td>195</td>\n",
       "      <td>2021-03-04 23:59:53+00:00</td>\n",
       "      <td>1367625880030257155</td>\n",
       "      <td>en</td>\n",
       "      <td>I have a mud mask on and my Face ID won’t work 😂</td>\n",
       "      <td>NaN</td>\n",
       "      <td>NaN</td>\n",
       "      <td>0</td>\n",
       "      <td>0</td>\n",
       "      <td>0</td>\n",
       "    </tr>\n",
       "    <tr>\n",
       "      <th>4</th>\n",
       "      <td>979462d73dec55949483575709190ed03c0e9b79bbc7f6...</td>\n",
       "      <td>don't you know who i think i am\\n\\nestudios de...</td>\n",
       "      <td>605</td>\n",
       "      <td>4912</td>\n",
       "      <td>2019-03-30 23:59:35+00:00</td>\n",
       "      <td>1112142359138050048</td>\n",
       "      <td>ht</td>\n",
       "      <td>voy a dormir 3h ****</td>\n",
       "      <td>NaN</td>\n",
       "      <td>icon @hanavbara</td>\n",
       "      <td>0</td>\n",
       "      <td>0</td>\n",
       "      <td>1</td>\n",
       "    </tr>\n",
       "  </tbody>\n",
       "</table>\n",
       "</div>"
      ],
      "text/plain": [
       "                                             User_ID  \\\n",
       "0  b0b63865cbb84efcd5422e42d13c8672707c82185c2cdf...   \n",
       "1  978a4548ee471aa84938dd67052799fa586d45fe405517...   \n",
       "2  5fbafd883c78ace9e30bccaa0caa350e797c625579aeba...   \n",
       "3  b8554e9a8fcc0eaf7485bfeb3ecc0d64373982d33f1660...   \n",
       "4  979462d73dec55949483575709190ed03c0e9b79bbc7f6...   \n",
       "\n",
       "                                 Profile description  Friends count  \\\n",
       "0                                              🏈🥋✈️🌎            115   \n",
       "1  Official Dorset Live Weather twitter page. Liv...           2955   \n",
       "2  If its meant to be it will happen no matter wh...            207   \n",
       "3     Welcome to my darkness, I've been here awhile.            113   \n",
       "4  don't you know who i think i am\\n\\nestudios de...            605   \n",
       "\n",
       "   Followers count                 Tweet date             Tweet id Language  \\\n",
       "0             1175  2020-12-31 23:59:58+00:00  1344795463317389312       en   \n",
       "1             3053  2016-03-05 23:59:54+00:00   706268029634613248       en   \n",
       "2             9938  2014-08-12 23:59:55+00:00   499344560506433536       en   \n",
       "3              195  2021-03-04 23:59:53+00:00  1367625880030257155       en   \n",
       "4             4912  2019-03-30 23:59:35+00:00  1112142359138050048       ht   \n",
       "\n",
       "                                          Tweet text Hashtags  \\\n",
       "0  People come and go, yet they remain irreplacea...      NaN   \n",
       "1  Wind 1.2 mph WNW. Barometer 1013.4 hPa, Rising...      NaN   \n",
       "2  ☆*:｡*:*｡:*☆\\nluke hemmings &amp; michael cliff...      NaN   \n",
       "3   I have a mud mask on and my Face ID won’t work 😂      NaN   \n",
       "4                               voy a dormir 3h ****      NaN   \n",
       "\n",
       "          Location  Reply count  Retweet count  Like count  \n",
       "0              NaN            0              0           0  \n",
       "1  Dorset, England            0              0           0  \n",
       "2              NaN            0              1           0  \n",
       "3              NaN            0              0           0  \n",
       "4  icon @hanavbara            0              0           1  "
      ]
     },
     "execution_count": 7,
     "metadata": {},
     "output_type": "execute_result"
    }
   ],
   "source": [
    "control_df = control_df.drop(columns=['Source', 'Account created',])\n",
    "autism_df = autism_df.drop(columns=['Source', 'Account created',])\n",
    "autism_df.head()\n",
    "control_df.head()"
   ]
  },
  {
   "cell_type": "markdown",
   "metadata": {},
   "source": [
    "## drop rows with no value for 'reply count'& 'retweet cont'\n",
    "## drop rows with no value for 'friend count'& 'follower cont'"
   ]
  },
  {
   "cell_type": "code",
   "execution_count": 8,
   "metadata": {},
   "outputs": [],
   "source": [
    "# Filter out rows where 'Reply count', 'Retweet count' are all 0\n",
    "control_df = control_df[((control_df['Reply count'].notna() & control_df['Reply count'] != 0) |\n",
    "                         (control_df['Retweet count'].notna() & control_df['Retweet count'] != 0))]\n",
    "\n",
    "# Filter out rows where 'Friends count', 'Followers count' are both 0\n",
    "control_df = control_df[((control_df['Friends count'].notna() & control_df['Friends count'] != 0) |\n",
    "                         (control_df['Followers count'].notna() & control_df['Followers count'] != 0))]"
   ]
  },
  {
   "cell_type": "code",
   "execution_count": 9,
   "metadata": {},
   "outputs": [],
   "source": [
    "# Filter out rows where 'Reply count', 'Retweet count' are all 0\n",
    "autism_df = autism_df[((autism_df['Reply count'].notna() & autism_df['Reply count'] != 0) |\n",
    "                       (autism_df['Retweet count'].notna() & autism_df['Retweet count'] != 0))]\n",
    "\n",
    "# Filter out rows where 'Friends count', 'Followers count' are both 0\n",
    "autism_df = autism_df[((autism_df['Friends count'].notna() & autism_df['Friends count'] != 0) |\n",
    "                       (autism_df['Followers count'].notna() & autism_df['Followers count'] != 0))]"
   ]
  },
  {
   "cell_type": "code",
   "execution_count": 10,
   "metadata": {},
   "outputs": [],
   "source": [
    "# Remove duplicates based on 'Tweet text'\n",
    "autism_df = autism_df.drop_duplicates(subset=['Tweet text'])\n",
    "control_df = control_df.drop_duplicates(subset=['Tweet text'])"
   ]
  },
  {
   "cell_type": "code",
   "execution_count": 11,
   "metadata": {},
   "outputs": [
    {
     "name": "stdout",
     "output_type": "stream",
     "text": [
      "New total number of rows: 784178\n",
      "New total number of rows: 525815\n"
     ]
    }
   ],
   "source": [
    "print(\"New total number of rows:\", autism_df.shape[0])\n",
    "print(\"New total number of rows:\", control_df.shape[0])"
   ]
  },
  {
   "cell_type": "markdown",
   "metadata": {},
   "source": [
    "## drop rows that has no 'Hashtags'"
   ]
  },
  {
   "cell_type": "code",
   "execution_count": 12,
   "metadata": {},
   "outputs": [],
   "source": [
    "# Drop rows that have missing values in the 'Hashtags' column\n",
    "control_df = control_df.dropna(subset=['Hashtags']).copy()\n",
    "autism_df = autism_df.dropna(subset=['Hashtags']).copy()"
   ]
  },
  {
   "cell_type": "code",
   "execution_count": 13,
   "metadata": {},
   "outputs": [
    {
     "name": "stdout",
     "output_type": "stream",
     "text": [
      "New total number of rows: 60439\n",
      "New total number of rows: 265817\n"
     ]
    }
   ],
   "source": [
    "print(\"New total number of rows:\", control_df.shape[0])\n",
    "print(\"New total number of rows:\", autism_df.shape[0])"
   ]
  },
  {
   "cell_type": "markdown",
   "metadata": {},
   "source": [
    "## drop rows for non-English"
   ]
  },
  {
   "cell_type": "code",
   "execution_count": 14,
   "metadata": {},
   "outputs": [
    {
     "name": "stdout",
     "output_type": "stream",
     "text": [
      "Language ratio before dropping non-English rows:\n",
      " Language\n",
      "en     0.990271\n",
      "es     0.002813\n",
      "tl     0.002383\n",
      "fr     0.001241\n",
      "pt     0.000811\n",
      "in     0.000529\n",
      "nl     0.000414\n",
      "de     0.000265\n",
      "eu     0.000232\n",
      "it     0.000199\n",
      "sv     0.000149\n",
      "ht     0.000149\n",
      "tr     0.000116\n",
      "et     0.000083\n",
      "ca     0.000083\n",
      "da     0.000083\n",
      "no     0.000066\n",
      "cy     0.000033\n",
      "pl     0.000033\n",
      "lt     0.000017\n",
      "vi     0.000017\n",
      "und    0.000017\n",
      "Name: proportion, dtype: float64\n"
     ]
    }
   ],
   "source": [
    "control_df_ratio = control_df['Language'].value_counts(normalize=True)\n",
    "print(\"Language ratio before dropping non-English rows:\\n\", control_df_ratio)"
   ]
  },
  {
   "cell_type": "code",
   "execution_count": 15,
   "metadata": {},
   "outputs": [
    {
     "name": "stdout",
     "output_type": "stream",
     "text": [
      "Language ratio before dropping non-English rows:\n",
      " Language\n",
      "en    0.998123\n",
      "fr    0.000974\n",
      "de    0.000199\n",
      "nl    0.000139\n",
      "tl    0.000109\n",
      "es    0.000075\n",
      "ht    0.000056\n",
      "et    0.000053\n",
      "tr    0.000038\n",
      "pt    0.000038\n",
      "in    0.000038\n",
      "no    0.000030\n",
      "it    0.000026\n",
      "da    0.000023\n",
      "sv    0.000019\n",
      "ca    0.000015\n",
      "vi    0.000011\n",
      "hi    0.000008\n",
      "lv    0.000008\n",
      "eu    0.000008\n",
      "cy    0.000004\n",
      "pl    0.000004\n",
      "is    0.000004\n",
      "Name: proportion, dtype: float64\n"
     ]
    }
   ],
   "source": [
    "autism_df_ratio = autism_df['Language'].value_counts(normalize=True)\n",
    "print(\"Language ratio before dropping non-English rows:\\n\", autism_df_ratio)"
   ]
  },
  {
   "cell_type": "code",
   "execution_count": 16,
   "metadata": {},
   "outputs": [],
   "source": [
    "control_df = control_df[control_df['Language'] == 'en']\n",
    "autism_df = autism_df[autism_df['Language'] == 'en']"
   ]
  },
  {
   "cell_type": "code",
   "execution_count": 17,
   "metadata": {},
   "outputs": [
    {
     "name": "stdout",
     "output_type": "stream",
     "text": [
      "Language ratio after dropping non-English rows:\n",
      " Language\n",
      "en    1.0\n",
      "Name: proportion, dtype: float64\n"
     ]
    }
   ],
   "source": [
    "control_df_ratio = control_df['Language'].value_counts(normalize=True)\n",
    "print(\"Language ratio after dropping non-English rows:\\n\", control_df_ratio)"
   ]
  },
  {
   "cell_type": "code",
   "execution_count": 18,
   "metadata": {},
   "outputs": [
    {
     "name": "stdout",
     "output_type": "stream",
     "text": [
      "Language ratio after dropping non-English rows:\n",
      " Language\n",
      "en    1.0\n",
      "Name: proportion, dtype: float64\n"
     ]
    }
   ],
   "source": [
    "autism_df_ratio = autism_df['Language'].value_counts(normalize=True)\n",
    "print(\"Language ratio after dropping non-English rows:\\n\", autism_df_ratio)"
   ]
  },
  {
   "cell_type": "code",
   "execution_count": 19,
   "metadata": {},
   "outputs": [
    {
     "name": "stdout",
     "output_type": "stream",
     "text": [
      "Missing values per column:\n",
      " User_ID                    0\n",
      "Profile description     5221\n",
      "Friends count              0\n",
      "Followers count            0\n",
      "Tweet date                 0\n",
      "Tweet id                   0\n",
      "Language                   0\n",
      "Tweet text                 0\n",
      "Hashtags                   0\n",
      "Location               15257\n",
      "Reply count                0\n",
      "Retweet count              0\n",
      "Like count                 0\n",
      "dtype: int64\n",
      "Total number of rows: 59851\n"
     ]
    }
   ],
   "source": [
    "# Check for missing values in all columns\n",
    "missing_values = control_df.isnull().sum()\n",
    "print(\"Missing values per column:\\n\", missing_values)\n",
    "\n",
    "total_rows = control_df.shape[0]\n",
    "print(\"Total number of rows:\", total_rows)"
   ]
  },
  {
   "cell_type": "code",
   "execution_count": 20,
   "metadata": {},
   "outputs": [
    {
     "name": "stdout",
     "output_type": "stream",
     "text": [
      "Missing values per column:\n",
      " User_ID                    0\n",
      "Profile description        0\n",
      "Friends count              0\n",
      "Followers count            0\n",
      "Tweet date                 0\n",
      "Tweet id                   0\n",
      "Language                   0\n",
      "Tweet text                 0\n",
      "Hashtags                   0\n",
      "Location               47242\n",
      "Reply count                0\n",
      "Retweet count              0\n",
      "Like count                 0\n",
      "dtype: int64\n",
      "Total number of rows: 265318\n"
     ]
    }
   ],
   "source": [
    "# Check for missing values in all columns\n",
    "missing_values = autism_df.isnull().sum()\n",
    "print(\"Missing values per column:\\n\", missing_values)\n",
    "\n",
    "total_rows = autism_df.shape[0]\n",
    "print(\"Total number of rows:\", total_rows)"
   ]
  },
  {
   "cell_type": "code",
   "execution_count": 21,
   "metadata": {},
   "outputs": [
    {
     "name": "stdout",
     "output_type": "stream",
     "text": [
      "New total number of rows: 59851\n",
      "New total number of rows: 265318\n"
     ]
    }
   ],
   "source": [
    "print(\"New total number of rows:\", control_df.shape[0])\n",
    "print(\"New total number of rows:\", autism_df.shape[0])"
   ]
  },
  {
   "cell_type": "markdown",
   "metadata": {},
   "source": [
    "# clean the tweet texts"
   ]
  },
  {
   "cell_type": "code",
   "execution_count": 22,
   "metadata": {},
   "outputs": [],
   "source": [
    "# Function to clean tweet text\n",
    "def clean_tweet_text(text):\n",
    "    # Remove URLs\n",
    "    text = re.sub(r'http\\S+|www\\S+|https\\S+', '', text, flags=re.MULTILINE)\n",
    "    # Remove user @ references and '#' from tweet\n",
    "    text = re.sub(r'\\@\\w+|\\#', '', text)\n",
    "    # Remove HTML entities\n",
    "    text = re.sub(r'&[a-z]+;', '', text)\n",
    "    # Convert to lowercase\n",
    "    text = text.lower()\n",
    "    # Tokenization\n",
    "    tokens = word_tokenize(text)\n",
    "    # Remove stopwords\n",
    "    stop_words = set(stopwords.words('english'))\n",
    "    filtered_tokens = [word for word in tokens if word not in stop_words]\n",
    "    # Lemmatization\n",
    "    lemmatizer = WordNetLemmatizer()\n",
    "    lemmatized_text = [lemmatizer.lemmatize(word) for word in filtered_tokens]\n",
    "    # Rejoin words\n",
    "    clean_text = ' '.join(lemmatized_text)\n",
    "    return clean_text"
   ]
  },
  {
   "cell_type": "code",
   "execution_count": 23,
   "metadata": {},
   "outputs": [],
   "source": [
    "# Apply the cleaning function to the 'Tweet text' column\n",
    "control_df['Tweet text'] = control_df['Tweet text'].apply(clean_tweet_text)\n",
    "\n",
    "autism_df['Tweet text'] = autism_df['Tweet text'].apply(clean_tweet_text)"
   ]
  },
  {
   "cell_type": "markdown",
   "metadata": {},
   "source": [
    "# drop meangingless columns"
   ]
  },
  {
   "cell_type": "code",
   "execution_count": 24,
   "metadata": {},
   "outputs": [],
   "source": [
    "control_df = control_df.drop(columns=['Language'])\n",
    "autism_df = autism_df.drop(columns=['Language'])"
   ]
  },
  {
   "cell_type": "markdown",
   "metadata": {},
   "source": [
    "# add sentiment labels"
   ]
  },
  {
   "cell_type": "code",
   "execution_count": 25,
   "metadata": {},
   "outputs": [],
   "source": [
    "# Initialize the pipeline\n",
    "tokenizer = AutoTokenizer.from_pretrained(\n",
    "    \"cardiffnlp/twitter-roberta-base-sentiment\")\n",
    "model = AutoModelForSequenceClassification.from_pretrained(\n",
    "    \"cardiffnlp/twitter-roberta-base-sentiment\")\n",
    "sentiment_pipeline = pipeline(\n",
    "    \"sentiment-analysis\", model=model, tokenizer=tokenizer)\n",
    "\n",
    "\n",
    "# Function to convert sentiment analysis output to continuous scale, with rounding\n",
    "def get_continuous_sentiment(text, pipeline):\n",
    "    result = pipeline(text)[0]\n",
    "    # The output is a dictionary with 'label' and 'score'.\n",
    "    # Labels correspond to 'LABEL_0' (negative), 'LABEL_1' (neutral), 'LABEL_2' (positive)\n",
    "    label = result['label']\n",
    "    if label == 'LABEL_2':  # Positive\n",
    "        return 2\n",
    "    elif label == 'LABEL_0':  # Negative\n",
    "        return -2\n",
    "    else:  # Neutral\n",
    "        return 0"
   ]
  },
  {
   "cell_type": "code",
   "execution_count": 26,
   "metadata": {},
   "outputs": [],
   "source": [
    "def safe_get_continuous_sentiment(text, sentiment_pipeline):\n",
    "    # Check if text is a non-empty string and not NaN\n",
    "    if pd.notnull(text) and text.strip():\n",
    "        return get_continuous_sentiment(text, sentiment_pipeline)\n",
    "    else:\n",
    "        return 0  # Default sentiment value for invalid inputs"
   ]
  },
  {
   "cell_type": "code",
   "execution_count": 27,
   "metadata": {},
   "outputs": [
    {
     "name": "stderr",
     "output_type": "stream",
     "text": [
      "100%|██████████| 59851/59851 [42:49<00:00, 23.29it/s] \n",
      "100%|██████████| 265318/265318 [3:19:06<00:00, 22.21it/s]  \n"
     ]
    }
   ],
   "source": [
    "tqdm.pandas()\n",
    "control_df['Tweet Text Sentiment'] = control_df['Tweet text'].progress_apply(\n",
    "    lambda x: safe_get_continuous_sentiment(x, sentiment_pipeline))\n",
    "autism_df['Tweet Text Sentiment'] = autism_df['Tweet text'].progress_apply(\n",
    "    lambda x: safe_get_continuous_sentiment(x, sentiment_pipeline))"
   ]
  },
  {
   "cell_type": "code",
   "execution_count": 28,
   "metadata": {},
   "outputs": [
    {
     "name": "stdout",
     "output_type": "stream",
     "text": [
      "Sentiment analysis with continuous scaling completed.\n",
      "Sentiment analysis with continuous scaling completed.\n"
     ]
    }
   ],
   "source": [
    "# Save the modified DataFrame\n",
    "control_df.to_csv(\n",
    "    '/Users/xuenichen/Desktop/BEF_Chen/dataset/control_tweets_with_sentiment.csv', index=False)\n",
    "\n",
    "print(\"Sentiment analysis with continuous scaling completed.\")\n",
    "\n",
    "\n",
    "autism_df.to_csv(\n",
    "    '/Users/xuenichen/Desktop/BEF_Chen/dataset/austim_tweets_with_sentiment.csv', index=False)\n",
    "\n",
    "print(\"Sentiment analysis with continuous scaling completed.\")"
   ]
  },
  {
   "cell_type": "code",
   "execution_count": 29,
   "metadata": {},
   "outputs": [],
   "source": [
    "merged_df = pd.concat([autism_df, control_df], ignore_index=True)"
   ]
  },
  {
   "cell_type": "code",
   "execution_count": 30,
   "metadata": {},
   "outputs": [
    {
     "data": {
      "text/plain": [
       "<bound method NDFrame.describe of                                                   User_ID  \\\n",
       "0       a3c541401a2776d4a4fac71a991eab6f59de824765e0c6...   \n",
       "1       60b42b5f7ea6852aa5e81818ffe51019c7ec4e72c9021b...   \n",
       "2       c27cdebc6a2ac4a7fbec4ebd50a7984070ab3ace3911b6...   \n",
       "3       10235dc7c72acf5dda924d1404fcb5addd1499462bcd2b...   \n",
       "4       3fa85d1a0ea7268383c65cea2f8cf824990b4527b117e6...   \n",
       "...                                                   ...   \n",
       "325164  779e32619786dd6f124d378f73995e217a8fe743f70865...   \n",
       "325165  6fa9d6094467d9329a1ccc6583432847a0ebd8d0b8eada...   \n",
       "325166  e1fe71d9de2a2470a597a69aa58d846e6a3fda0490e66b...   \n",
       "325167  c0ccf7d6df8a85b3d6f410bbbfc1f4db0eb12075b0eeca...   \n",
       "325168  6d3601b718731af3b0d0a667acb6672e85a35b62a34310...   \n",
       "\n",
       "                                      Profile description  Friends count  \\\n",
       "0       homeless. gen-x catholic folk witch. domestic ...            771   \n",
       "1       Just a Homeless Chronically Ill Schizoaffectiv...           3692   \n",
       "2       #LongCovid #actuallyautistic #POC lover of bea...          22230   \n",
       "3               18+; they/them. radically soft. autistic.           1665   \n",
       "4       I empower my fellow #ActuallyAutistic humans w...           2326   \n",
       "...                                                   ...            ...   \n",
       "325164                                                 🏳️            147   \n",
       "325165                                                NaN            189   \n",
       "325166        Husband | Dad | Pastor | Investor | Realtor           3055   \n",
       "325167                                   @youngrisingsons            627   \n",
       "325168                                    🇵🇷 from the 2o3            352   \n",
       "\n",
       "        Followers count                 Tweet date             Tweet id  \\\n",
       "0                   752  2022-12-31 20:15:30+00:00  1609282116965257219   \n",
       "1                  1733  2022-12-31 20:13:32+00:00  1609281620657467398   \n",
       "2                 22401  2022-12-31 19:22:11+00:00  1609268700187709450   \n",
       "3                 10661  2022-12-31 15:47:37+00:00  1609214700553900035   \n",
       "4                  7055  2022-12-31 15:33:13+00:00  1609211080013938690   \n",
       "...                 ...                        ...                  ...   \n",
       "325164              113  2014-02-28 23:59:57+00:00   439550571326865408   \n",
       "325165              239  2014-02-28 23:59:57+00:00   439550570248937472   \n",
       "325166             1572  2014-02-28 23:59:56+00:00   439550569284243456   \n",
       "325167             1372  2014-02-28 23:59:56+00:00   439550568940711937   \n",
       "325168              257  2014-02-28 23:59:56+00:00   439550567921516544   \n",
       "\n",
       "                                               Tweet text  \\\n",
       "0       goal week $ 650 : $ 530 weekly rent , $ 100 gr...   \n",
       "1       anyone help $ 50 shelter ? 🥺 family 8 ( mostly...   \n",
       "2       actuallyautistic question . see someone care l...   \n",
       "3       there many reason anxious . white supremacy , ...   \n",
       "4       actuallyautistic comrade want see change world...   \n",
       "...                                                   ...   \n",
       "325164                             tawau go . mabulisland   \n",
       "325165             s/o boy named oua rookie team ! shoota   \n",
       "325166  place 're longer contain destiny . though u ma...   \n",
       "325167  steve aoki april 10th connecticut girl letsdot...   \n",
       "325168                           girl ai n't loyal savage   \n",
       "\n",
       "                                                 Hashtags  \\\n",
       "0       ['helpfolkslive2022', 'mutualaidrequest', 'act...   \n",
       "1       ['EmergencyCrowdFund', 'TwitterPhilanthropy', ...   \n",
       "2                                    ['ActuallyAutistic']   \n",
       "3                                    ['ActuallyAutistic']   \n",
       "4       ['ActuallyAutistic', 'autism', 'Neurodiversity...   \n",
       "...                                                   ...   \n",
       "325164                                    ['MabulIsland']   \n",
       "325165                                         ['shoota']   \n",
       "325166                                         ['deeper']   \n",
       "325167                             ['letsdothis', 'rage']   \n",
       "325168                                         ['savage']   \n",
       "\n",
       "                           Location  Reply count  Retweet count  Like count  \\\n",
       "0                               NaN            0             35          24   \n",
       "1       https://ko-fi.com/thechasms            2              7           4   \n",
       "2               South West, England           11              1          45   \n",
       "3                              Here            0              1           4   \n",
       "4                             Paris            7              0          15   \n",
       "...                             ...          ...            ...         ...   \n",
       "325164             Klang , selangor            0              1           0   \n",
       "325165                          NaN            0              1           0   \n",
       "325166               Cincinnati, OH            1              1           1   \n",
       "325167                New York, USA            1              0           2   \n",
       "325168                  danbury, ct            0              1           2   \n",
       "\n",
       "        Tweet Text Sentiment  \n",
       "0                          0  \n",
       "1                          0  \n",
       "2                         -2  \n",
       "3                         -2  \n",
       "4                          0  \n",
       "...                      ...  \n",
       "325164                     0  \n",
       "325165                     0  \n",
       "325166                     0  \n",
       "325167                     2  \n",
       "325168                    -2  \n",
       "\n",
       "[325169 rows x 13 columns]>"
      ]
     },
     "execution_count": 30,
     "metadata": {},
     "output_type": "execute_result"
    }
   ],
   "source": [
    "merged_df.describe"
   ]
  },
  {
   "cell_type": "code",
   "execution_count": 31,
   "metadata": {},
   "outputs": [
    {
     "name": "stdout",
     "output_type": "stream",
     "text": [
      "Sentiment analysis with continuous scaling completed.\n"
     ]
    }
   ],
   "source": [
    "merged_df.to_csv(\n",
    "    '/Users/xuenichen/Desktop/BEF_Chen/dataset/merged_with_sentiment.csv', index=False)\n",
    "\n",
    "print(\"Sentiment analysis with continuous scaling completed.\")"
   ]
  },
  {
   "cell_type": "code",
   "execution_count": null,
   "metadata": {},
   "outputs": [],
   "source": []
  },
  {
   "cell_type": "markdown",
   "metadata": {},
   "source": [
    "# filter for network"
   ]
  },
  {
   "cell_type": "code",
   "execution_count": 1,
   "metadata": {},
   "outputs": [],
   "source": [
    "import re\n",
    "import ast\n",
    "import numpy as np\n",
    "import pandas as pd\n",
    "import seaborn as sns\n",
    "import networkx as nx\n",
    "import matplotlib.pyplot as plt\n",
    "from collections import Counter\n",
    "from scipy.stats import ks_2samp\n",
    "from itertools import combinations\n",
    "from scipy.stats import chi2_contingency\n",
    "from sklearn.decomposition import LatentDirichletAllocation\n",
    "from sklearn.feature_extraction.text import CountVectorizer\n",
    "from tqdm import tqdm\n",
    "from fuzzywuzzy import fuzz"
   ]
  },
  {
   "cell_type": "code",
   "execution_count": 2,
   "metadata": {},
   "outputs": [
    {
     "name": "stderr",
     "output_type": "stream",
     "text": [
      "/var/folders/x_/q8m53n9s7qj76786p5830ldh0000gn/T/ipykernel_8531/366650101.py:1: DtypeWarning: Columns (3,5) have mixed types. Specify dtype option on import or set low_memory=False.\n",
      "  autism_tweets_df = pd.read_csv(\n"
     ]
    },
    {
     "name": "stdout",
     "output_type": "stream",
     "text": [
      "                                             User_ID  \\\n",
      "0  a3c541401a2776d4a4fac71a991eab6f59de824765e0c6...   \n",
      "1  60b42b5f7ea6852aa5e81818ffe51019c7ec4e72c9021b...   \n",
      "2  c27cdebc6a2ac4a7fbec4ebd50a7984070ab3ace3911b6...   \n",
      "3  10235dc7c72acf5dda924d1404fcb5addd1499462bcd2b...   \n",
      "4  3fa85d1a0ea7268383c65cea2f8cf824990b4527b117e6...   \n",
      "\n",
      "                                 Profile description  Friends count  \\\n",
      "0  homeless. gen-x catholic folk witch. domestic ...          771.0   \n",
      "1  Just a Homeless Chronically Ill Schizoaffectiv...         3692.0   \n",
      "2  #LongCovid #actuallyautistic #POC lover of bea...        22230.0   \n",
      "3          18+; they/them. radically soft. autistic.         1665.0   \n",
      "4  I empower my fellow #ActuallyAutistic humans w...         2326.0   \n",
      "\n",
      "  Followers count                 Tweet date             Tweet id  \\\n",
      "0             752  2022-12-31 20:15:30+00:00  1609282116965257219   \n",
      "1            1733  2022-12-31 20:13:32+00:00  1609281620657467398   \n",
      "2           22401  2022-12-31 19:22:11+00:00  1609268700187709450   \n",
      "3           10661  2022-12-31 15:47:37+00:00  1609214700553900035   \n",
      "4            7055  2022-12-31 15:33:13+00:00  1609211080013938690   \n",
      "\n",
      "                                          Tweet text  \\\n",
      "0  goal week $ 650 : $ 530 weekly rent , $ 100 gr...   \n",
      "1  anyone help $ 50 shelter ? 🥺 family 8 ( mostly...   \n",
      "2  actuallyautistic question . see someone care l...   \n",
      "3  there many reason anxious . white supremacy , ...   \n",
      "4  actuallyautistic comrade want see change world...   \n",
      "\n",
      "                                            Hashtags  \\\n",
      "0  ['helpfolkslive2022', 'mutualaidrequest', 'act...   \n",
      "1  ['EmergencyCrowdFund', 'TwitterPhilanthropy', ...   \n",
      "2                               ['ActuallyAutistic']   \n",
      "3                               ['ActuallyAutistic']   \n",
      "4  ['ActuallyAutistic', 'autism', 'Neurodiversity...   \n",
      "\n",
      "                      Location  Reply count  Retweet count  Like count  \\\n",
      "0                          NaN          0.0           35.0        24.0   \n",
      "1  https://ko-fi.com/thechasms          2.0            7.0         4.0   \n",
      "2          South West, England         11.0            1.0        45.0   \n",
      "3                         Here          0.0            1.0         4.0   \n",
      "4                        Paris          7.0            0.0        15.0   \n",
      "\n",
      "   Tweet Text Sentiment  \n",
      "0                   0.0  \n",
      "1                   0.0  \n",
      "2                  -2.0  \n",
      "3                  -2.0  \n",
      "4                   0.0  \n",
      "                                             User_ID  \\\n",
      "0  f313e088777ce93cfb3c9e5e9aa6532d7f2c7197bc18b1...   \n",
      "1  a8ecfe6092e1115c42438cfed6cc79871d28699a40976c...   \n",
      "2  f4cc135a7544cc1243031a3bdb06392e5392222592fbfb...   \n",
      "3  c6231fc6a0ff4647907fe64eb3afb540f16418736eae66...   \n",
      "4  bad9f49c9ab505f6e56c931c2049c77889e4de026f95ee...   \n",
      "\n",
      "                                 Profile description  Friends count  \\\n",
      "0                                                NaN         1494.0   \n",
      "1  We build Latina/x power in New York to secure ...         1575.0   \n",
      "2  I PRAY FOR INCREASE 🙏🏿Jeremiah 29:11, living p...          135.0   \n",
      "3     @yassizzle @louyanong @itsdredesu @lenirobredo          161.0   \n",
      "4                                       Eric's Baby😻           58.0   \n",
      "\n",
      "  Followers count                 Tweet date             Tweet id  \\\n",
      "0             321  2016-01-24 23:59:56+00:00   691410136271708160   \n",
      "1            1231  2019-05-17 23:59:46+00:00  1129537022224424961   \n",
      "2             131  2019-08-09 23:59:46+00:00  1159977601634570240   \n",
      "3           13264  2019-08-08 23:59:44+00:00  1159615206894403584   \n",
      "4              33  2019-08-22 23:59:35+00:00  1164688599524102150   \n",
      "\n",
      "                                          Tweet text  \\\n",
      "0  next year tombrady make superbowl51-another qb...   \n",
      "1  “ want add want ya document brings u joy ” - b...   \n",
      "2  * * * * thought hampton grassfield 😭💀✊🏿 grizzl...   \n",
      "3  hope waking dream . beautifulayf onmb ultimate...   \n",
      "4           welcome back jinhobae showtimefullcharge   \n",
      "\n",
      "                             Hashtags                     Location  \\\n",
      "0  ['TomBrady', 'SuperBowl51', 'NFL']                Mojave Desert   \n",
      "1                        ['BXLOLA19']    Lenape Land/New York City   \n",
      "2                    ['GrizzlyPride']                          NaN   \n",
      "3                ['UltimateBig4onMB']  Republic of the Philippines   \n",
      "4              ['ShowtimeFullCharge']    General Trias, Calabarzon   \n",
      "\n",
      "   Reply count  Retweet count  Like count  Tweet Text Sentiment  \n",
      "0          1.0            0.0         0.0                   2.0  \n",
      "1          0.0            1.0         0.0                   2.0  \n",
      "2          0.0            1.0         0.0                   0.0  \n",
      "3          0.0            1.0         0.0                   2.0  \n",
      "4          0.0            5.0         3.0                   2.0  \n",
      "User_ID                     0\n",
      "Profile description         0\n",
      "Friends count               1\n",
      "Followers count             1\n",
      "Tweet date                  1\n",
      "Tweet id                    1\n",
      "Tweet text                  1\n",
      "Hashtags                    2\n",
      "Location                47242\n",
      "Reply count                 1\n",
      "Retweet count               1\n",
      "Like count                  1\n",
      "Tweet Text Sentiment        2\n",
      "dtype: int64\n",
      "User_ID                     6\n",
      "Profile description      5221\n",
      "Friends count              12\n",
      "Followers count            12\n",
      "Tweet date                 12\n",
      "Tweet id                   18\n",
      "Tweet text                 18\n",
      "Hashtags                   18\n",
      "Location                15275\n",
      "Reply count                24\n",
      "Retweet count              24\n",
      "Like count                 24\n",
      "Tweet Text Sentiment       36\n",
      "dtype: int64\n"
     ]
    }
   ],
   "source": [
    "autism_tweets_df = pd.read_csv(\n",
    "    '/Users/xuenichen/Desktop/BEF_Chen/dataset/austim_tweets_with_sentiment.csv')\n",
    "control_tweets_df = pd.read_csv(\n",
    "    '/Users/xuenichen/Desktop/BEF_Chen/dataset/control_tweets_with_sentiment.csv')\n",
    "\n",
    "\n",
    "print(autism_tweets_df.head())\n",
    "print(control_tweets_df.head())\n",
    "print(autism_tweets_df.isnull().sum())\n",
    "print(control_tweets_df.isnull().sum())"
   ]
  },
  {
   "cell_type": "code",
   "execution_count": 3,
   "metadata": {},
   "outputs": [
    {
     "data": {
      "text/plain": [
       "<bound method NDFrame.describe of                                                  User_ID  \\\n",
       "0      f313e088777ce93cfb3c9e5e9aa6532d7f2c7197bc18b1...   \n",
       "1      a8ecfe6092e1115c42438cfed6cc79871d28699a40976c...   \n",
       "2      f4cc135a7544cc1243031a3bdb06392e5392222592fbfb...   \n",
       "3      c6231fc6a0ff4647907fe64eb3afb540f16418736eae66...   \n",
       "4      bad9f49c9ab505f6e56c931c2049c77889e4de026f95ee...   \n",
       "...                                                  ...   \n",
       "59864  779e32619786dd6f124d378f73995e217a8fe743f70865...   \n",
       "59865  6fa9d6094467d9329a1ccc6583432847a0ebd8d0b8eada...   \n",
       "59866  e1fe71d9de2a2470a597a69aa58d846e6a3fda0490e66b...   \n",
       "59867  c0ccf7d6df8a85b3d6f410bbbfc1f4db0eb12075b0eeca...   \n",
       "59868  6d3601b718731af3b0d0a667acb6672e85a35b62a34310...   \n",
       "\n",
       "                                     Profile description  Friends count  \\\n",
       "0                                                    NaN         1494.0   \n",
       "1      We build Latina/x power in New York to secure ...         1575.0   \n",
       "2      I PRAY FOR INCREASE 🙏🏿Jeremiah 29:11, living p...          135.0   \n",
       "3         @yassizzle @louyanong @itsdredesu @lenirobredo          161.0   \n",
       "4                                           Eric's Baby😻           58.0   \n",
       "...                                                  ...            ...   \n",
       "59864                                                 🏳️          147.0   \n",
       "59865                                                NaN          189.0   \n",
       "59866        Husband | Dad | Pastor | Investor | Realtor         3055.0   \n",
       "59867                                   @youngrisingsons          627.0   \n",
       "59868                                    🇵🇷 from the 2o3          352.0   \n",
       "\n",
       "      Followers count                 Tweet date             Tweet id  \\\n",
       "0                 321  2016-01-24 23:59:56+00:00   691410136271708160   \n",
       "1                1231  2019-05-17 23:59:46+00:00  1129537022224424961   \n",
       "2                 131  2019-08-09 23:59:46+00:00  1159977601634570240   \n",
       "3               13264  2019-08-08 23:59:44+00:00  1159615206894403584   \n",
       "4                  33  2019-08-22 23:59:35+00:00  1164688599524102150   \n",
       "...               ...                        ...                  ...   \n",
       "59864             113  2014-02-28 23:59:57+00:00   439550571326865408   \n",
       "59865             239  2014-02-28 23:59:57+00:00   439550570248937472   \n",
       "59866            1572  2014-02-28 23:59:56+00:00   439550569284243456   \n",
       "59867            1372  2014-02-28 23:59:56+00:00   439550568940711937   \n",
       "59868             257  2014-02-28 23:59:56+00:00   439550567921516544   \n",
       "\n",
       "                                              Tweet text  \\\n",
       "0      next year tombrady make superbowl51-another qb...   \n",
       "1      “ want add want ya document brings u joy ” - b...   \n",
       "2      * * * * thought hampton grassfield 😭💀✊🏿 grizzl...   \n",
       "3      hope waking dream . beautifulayf onmb ultimate...   \n",
       "4               welcome back jinhobae showtimefullcharge   \n",
       "...                                                  ...   \n",
       "59864                             tawau go . mabulisland   \n",
       "59865             s/o boy named oua rookie team ! shoota   \n",
       "59866  place 're longer contain destiny . though u ma...   \n",
       "59867  steve aoki april 10th connecticut girl letsdot...   \n",
       "59868                           girl ai n't loyal savage   \n",
       "\n",
       "                                 Hashtags                     Location  \\\n",
       "0      ['TomBrady', 'SuperBowl51', 'NFL']                Mojave Desert   \n",
       "1                            ['BXLOLA19']    Lenape Land/New York City   \n",
       "2                        ['GrizzlyPride']                          NaN   \n",
       "3                    ['UltimateBig4onMB']  Republic of the Philippines   \n",
       "4                  ['ShowtimeFullCharge']    General Trias, Calabarzon   \n",
       "...                                   ...                          ...   \n",
       "59864                     ['MabulIsland']             Klang , selangor   \n",
       "59865                          ['shoota']                          NaN   \n",
       "59866                          ['deeper']               Cincinnati, OH   \n",
       "59867              ['letsdothis', 'rage']                New York, USA   \n",
       "59868                          ['savage']                  danbury, ct   \n",
       "\n",
       "       Reply count  Retweet count  Like count  Tweet Text Sentiment  \n",
       "0              1.0            0.0         0.0                   2.0  \n",
       "1              0.0            1.0         0.0                   2.0  \n",
       "2              0.0            1.0         0.0                   0.0  \n",
       "3              0.0            1.0         0.0                   2.0  \n",
       "4              0.0            5.0         3.0                   2.0  \n",
       "...            ...            ...         ...                   ...  \n",
       "59864          0.0            1.0         0.0                   0.0  \n",
       "59865          0.0            1.0         0.0                   0.0  \n",
       "59866          1.0            1.0         1.0                   0.0  \n",
       "59867          1.0            0.0         2.0                   2.0  \n",
       "59868          0.0            1.0         2.0                  -2.0  \n",
       "\n",
       "[59869 rows x 13 columns]>"
      ]
     },
     "execution_count": 3,
     "metadata": {},
     "output_type": "execute_result"
    }
   ],
   "source": [
    "autism_tweets_df.describe\n",
    "control_tweets_df.describe"
   ]
  },
  {
   "cell_type": "code",
   "execution_count": 4,
   "metadata": {},
   "outputs": [],
   "source": [
    "# Function to find similar tweets and drop them\n",
    "def drop_similar_tweets(df):\n",
    "    to_drop = []\n",
    "    grouped = df.groupby(['User_ID', 'Tweet id'])\n",
    "\n",
    "    for name, group in grouped:\n",
    "        if len(group) > 1:\n",
    "            for i in range(len(group)):\n",
    "                for j in range(i + 1, len(group)):\n",
    "                    if fuzz.ratio(group.iloc[i]['Tweet text'], group.iloc[j]['Tweet text']) > 80:\n",
    "                        to_drop.append(group.index[j])\n",
    "\n",
    "    return df.drop(to_drop)"
   ]
  },
  {
   "cell_type": "code",
   "execution_count": 5,
   "metadata": {},
   "outputs": [
    {
     "name": "stdout",
     "output_type": "stream",
     "text": [
      "                                             User_ID  \\\n",
      "0  a3c541401a2776d4a4fac71a991eab6f59de824765e0c6...   \n",
      "1  60b42b5f7ea6852aa5e81818ffe51019c7ec4e72c9021b...   \n",
      "2  c27cdebc6a2ac4a7fbec4ebd50a7984070ab3ace3911b6...   \n",
      "3  10235dc7c72acf5dda924d1404fcb5addd1499462bcd2b...   \n",
      "4  3fa85d1a0ea7268383c65cea2f8cf824990b4527b117e6...   \n",
      "\n",
      "                                 Profile description  Friends count  \\\n",
      "0  homeless. gen-x catholic folk witch. domestic ...          771.0   \n",
      "1  Just a Homeless Chronically Ill Schizoaffectiv...         3692.0   \n",
      "2  #LongCovid #actuallyautistic #POC lover of bea...        22230.0   \n",
      "3          18+; they/them. radically soft. autistic.         1665.0   \n",
      "4  I empower my fellow #ActuallyAutistic humans w...         2326.0   \n",
      "\n",
      "  Followers count                 Tweet date             Tweet id  \\\n",
      "0             752  2022-12-31 20:15:30+00:00  1609282116965257219   \n",
      "1            1733  2022-12-31 20:13:32+00:00  1609281620657467398   \n",
      "2           22401  2022-12-31 19:22:11+00:00  1609268700187709450   \n",
      "3           10661  2022-12-31 15:47:37+00:00  1609214700553900035   \n",
      "4            7055  2022-12-31 15:33:13+00:00  1609211080013938690   \n",
      "\n",
      "                                          Tweet text  \\\n",
      "0  goal week $ 650 : $ 530 weekly rent , $ 100 gr...   \n",
      "1  anyone help $ 50 shelter ? 🥺 family 8 ( mostly...   \n",
      "2  actuallyautistic question . see someone care l...   \n",
      "3  there many reason anxious . white supremacy , ...   \n",
      "4  actuallyautistic comrade want see change world...   \n",
      "\n",
      "                                            Hashtags  \\\n",
      "0  ['helpfolkslive2022', 'mutualaidrequest', 'act...   \n",
      "1  ['EmergencyCrowdFund', 'TwitterPhilanthropy', ...   \n",
      "2                               ['ActuallyAutistic']   \n",
      "3                               ['ActuallyAutistic']   \n",
      "4  ['ActuallyAutistic', 'autism', 'Neurodiversity...   \n",
      "\n",
      "                      Location  Reply count  Retweet count  Like count  \\\n",
      "0                          NaN          0.0           35.0        24.0   \n",
      "1  https://ko-fi.com/thechasms          2.0            7.0         4.0   \n",
      "2          South West, England         11.0            1.0        45.0   \n",
      "3                         Here          0.0            1.0         4.0   \n",
      "4                        Paris          7.0            0.0        15.0   \n",
      "\n",
      "   Tweet Text Sentiment  \n",
      "0                   0.0  \n",
      "1                   0.0  \n",
      "2                  -2.0  \n",
      "3                  -2.0  \n",
      "4                   0.0  \n",
      "                                             User_ID  \\\n",
      "0  f313e088777ce93cfb3c9e5e9aa6532d7f2c7197bc18b1...   \n",
      "1  a8ecfe6092e1115c42438cfed6cc79871d28699a40976c...   \n",
      "2  f4cc135a7544cc1243031a3bdb06392e5392222592fbfb...   \n",
      "3  c6231fc6a0ff4647907fe64eb3afb540f16418736eae66...   \n",
      "4  bad9f49c9ab505f6e56c931c2049c77889e4de026f95ee...   \n",
      "\n",
      "                                 Profile description  Friends count  \\\n",
      "0                                                NaN         1494.0   \n",
      "1  We build Latina/x power in New York to secure ...         1575.0   \n",
      "2  I PRAY FOR INCREASE 🙏🏿Jeremiah 29:11, living p...          135.0   \n",
      "3     @yassizzle @louyanong @itsdredesu @lenirobredo          161.0   \n",
      "4                                       Eric's Baby😻           58.0   \n",
      "\n",
      "  Followers count                 Tweet date             Tweet id  \\\n",
      "0             321  2016-01-24 23:59:56+00:00   691410136271708160   \n",
      "1            1231  2019-05-17 23:59:46+00:00  1129537022224424961   \n",
      "2             131  2019-08-09 23:59:46+00:00  1159977601634570240   \n",
      "3           13264  2019-08-08 23:59:44+00:00  1159615206894403584   \n",
      "4              33  2019-08-22 23:59:35+00:00  1164688599524102150   \n",
      "\n",
      "                                          Tweet text  \\\n",
      "0  next year tombrady make superbowl51-another qb...   \n",
      "1  “ want add want ya document brings u joy ” - b...   \n",
      "2  * * * * thought hampton grassfield 😭💀✊🏿 grizzl...   \n",
      "3  hope waking dream . beautifulayf onmb ultimate...   \n",
      "4           welcome back jinhobae showtimefullcharge   \n",
      "\n",
      "                             Hashtags                     Location  \\\n",
      "0  ['TomBrady', 'SuperBowl51', 'NFL']                Mojave Desert   \n",
      "1                        ['BXLOLA19']    Lenape Land/New York City   \n",
      "2                    ['GrizzlyPride']                          NaN   \n",
      "3                ['UltimateBig4onMB']  Republic of the Philippines   \n",
      "4              ['ShowtimeFullCharge']    General Trias, Calabarzon   \n",
      "\n",
      "   Reply count  Retweet count  Like count  Tweet Text Sentiment  \n",
      "0          1.0            0.0         0.0                   2.0  \n",
      "1          0.0            1.0         0.0                   2.0  \n",
      "2          0.0            1.0         0.0                   0.0  \n",
      "3          0.0            1.0         0.0                   2.0  \n",
      "4          0.0            5.0         3.0                   2.0  \n",
      "User_ID                     0\n",
      "Profile description         0\n",
      "Friends count               1\n",
      "Followers count             1\n",
      "Tweet date                  1\n",
      "Tweet id                    1\n",
      "Tweet text                  1\n",
      "Hashtags                    2\n",
      "Location                47242\n",
      "Reply count                 1\n",
      "Retweet count               1\n",
      "Like count                  1\n",
      "Tweet Text Sentiment        2\n",
      "dtype: int64\n",
      "User_ID                     6\n",
      "Profile description      5221\n",
      "Friends count              12\n",
      "Followers count            12\n",
      "Tweet date                 12\n",
      "Tweet id                   18\n",
      "Tweet text                 18\n",
      "Hashtags                   18\n",
      "Location                15275\n",
      "Reply count                24\n",
      "Retweet count              24\n",
      "Like count                 24\n",
      "Tweet Text Sentiment       36\n",
      "dtype: int64\n"
     ]
    }
   ],
   "source": [
    "# Drop similar tweets in both datasets\n",
    "autism_tweets_df = drop_similar_tweets(autism_tweets_df)\n",
    "control_tweets_df = drop_similar_tweets(control_tweets_df)\n",
    "\n",
    "# Print the cleaned dataframes\n",
    "print(autism_tweets_df.head())\n",
    "print(control_tweets_df.head())\n",
    "\n",
    "# Check for null values\n",
    "print(autism_tweets_df.isnull().sum())\n",
    "print(control_tweets_df.isnull().sum())"
   ]
  },
  {
   "cell_type": "code",
   "execution_count": 6,
   "metadata": {},
   "outputs": [
    {
     "name": "stdout",
     "output_type": "stream",
     "text": [
      "New total number of rows: 265319\n",
      "New total number of rows: 59869\n"
     ]
    }
   ],
   "source": [
    "print(\"New total number of rows:\", autism_tweets_df.shape[0])\n",
    "print(\"New total number of rows:\", control_tweets_df.shape[0])"
   ]
  },
  {
   "cell_type": "markdown",
   "metadata": {},
   "source": [
    "### Hashtags detailed info"
   ]
  },
  {
   "cell_type": "code",
   "execution_count": 7,
   "metadata": {},
   "outputs": [],
   "source": [
    "# Replace NaN values in the 'Hashtags' column with empty lists\n",
    "control_tweets_df['Hashtags'] = control_tweets_df['Hashtags'].fillna('[]')\n",
    "autism_tweets_df['Hashtags'] = autism_tweets_df['Hashtags'].fillna('[]')\n",
    "\n",
    "# Function to safely evaluate strings to lists\n",
    "\n",
    "\n",
    "def safe_literal_eval(val):\n",
    "    try:\n",
    "        return ast.literal_eval(val)\n",
    "    except (ValueError, SyntaxError):\n",
    "        return []\n",
    "\n",
    "\n",
    "# Convert the 'Hashtags' column strings to lists\n",
    "control_tweets_df['Hashtags'] = control_tweets_df['Hashtags'].apply(\n",
    "    safe_literal_eval)\n",
    "autism_tweets_df['Hashtags'] = autism_tweets_df['Hashtags'].apply(\n",
    "    safe_literal_eval)\n",
    "\n",
    "# Flatten the lists of hashtags and count the frequencies for each dataset\n",
    "control_hashtags = [\n",
    "    hashtag for sublist in control_tweets_df['Hashtags'] for hashtag in sublist]\n",
    "autism_hashtags = [hashtag for sublist in autism_tweets_df['Hashtags']\n",
    "                   for hashtag in sublist]\n",
    "\n",
    "control_hashtag_freq = Counter(control_hashtags)\n",
    "autism_hashtag_freq = Counter(autism_hashtags)\n",
    "\n",
    "# Convert Counter objects to DataFrames\n",
    "control_hashtag_df = pd.DataFrame(control_hashtag_freq.items(), columns=[\n",
    "                                  'Hashtag', 'Count']).sort_values(by='Count', ascending=False)\n",
    "autism_hashtag_df = pd.DataFrame(autism_hashtag_freq.items(), columns=[\n",
    "                                 'Hashtag', 'Count']).sort_values(by='Count', ascending=False)"
   ]
  },
  {
   "cell_type": "code",
   "execution_count": 8,
   "metadata": {},
   "outputs": [
    {
     "name": "stdout",
     "output_type": "stream",
     "text": [
      "Control Hashtag Frequencies:\n",
      "                  Hashtag  Count\n",
      "2064       NintendoSwitch    327\n",
      "817          iHeartAwards    299\n",
      "245          WrestleMania    260\n",
      "2078           SoundCloud    198\n",
      "557          MarchMadness    190\n",
      "...                   ...    ...\n",
      "19995              STEMed      1\n",
      "19996           maxpucker      1\n",
      "19997  ALDUB186thWeeksary      1\n",
      "19998  ALDUB184thWeeksary      1\n",
      "47841              deeper      1\n",
      "\n",
      "[47842 rows x 2 columns]\n",
      "\n",
      "Autism Hashtag Frequencies:\n",
      "                 Hashtag  Count\n",
      "8       ActuallyAutistic  55111\n",
      "14                autism  20656\n",
      "39                Autism  11000\n",
      "74              autistic  10209\n",
      "2       actuallyautistic   9268\n",
      "...                  ...    ...\n",
      "63404       AmPublishing      1\n",
      "12759   AcceptanceIsLove      1\n",
      "63402       AWritersLife      1\n",
      "63399        7WordPoetry      1\n",
      "127023              DeFi      1\n",
      "\n",
      "[127024 rows x 2 columns]\n"
     ]
    }
   ],
   "source": [
    "# Print the DataFrames\n",
    "print(\"Control Hashtag Frequencies:\")\n",
    "print(control_hashtag_df)\n",
    "\n",
    "print(\"\\nAutism Hashtag Frequencies:\")\n",
    "print(autism_hashtag_df)"
   ]
  },
  {
   "cell_type": "code",
   "execution_count": 9,
   "metadata": {},
   "outputs": [],
   "source": [
    "# Get the top 50 hashtags\n",
    "top_50_control_hashtags = control_hashtag_freq.most_common(50)\n",
    "top_50_autism_hashtags = autism_hashtag_freq.most_common(50)\n"
   ]
  },
  {
   "cell_type": "code",
   "execution_count": 10,
   "metadata": {},
   "outputs": [
    {
     "data": {
      "text/plain": [
       "[('NintendoSwitch', 327),\n",
       " ('iHeartAwards', 299),\n",
       " ('WrestleMania', 260),\n",
       " ('SoundCloud', 198),\n",
       " ('MarchMadness', 190),\n",
       " ('BTSBBMAs', 181),\n",
       " ('music', 173),\n",
       " ('CaIIMeCam', 171),\n",
       " ('BestFanArmy', 156),\n",
       " ('WWE', 152),\n",
       " ('MyTwitterAnniversary', 144),\n",
       " ('NewProfilePic', 144),\n",
       " ('np', 140),\n",
       " ('WPMOYChallenge', 132),\n",
       " ('WritingCommunity', 128),\n",
       " ('NFL', 126),\n",
       " ('TeenChoice', 124),\n",
       " ('BTS', 124),\n",
       " ('MTVHottest', 118),\n",
       " ('GamblingTwitter', 118),\n",
       " ('NFT', 117),\n",
       " ('LoveIsland', 110),\n",
       " ('Bitcoin', 109),\n",
       " ('AI', 108),\n",
       " ('art', 106),\n",
       " ('loveisland', 104),\n",
       " ('SuperBowl', 103),\n",
       " ('ACNH', 103),\n",
       " ('BlueJays', 98),\n",
       " ('COVID19', 97),\n",
       " ('OneTribe', 97),\n",
       " ('twitch', 96),\n",
       " ('MLB', 93),\n",
       " ('TikTok', 93),\n",
       " ('Cubs', 90),\n",
       " ('wearethepeople', 90),\n",
       " ('AnimalCrossing', 89),\n",
       " ('Trump', 88),\n",
       " ('PS5Share', 88),\n",
       " ('BBNaija', 84),\n",
       " ('NBA', 82),\n",
       " ('mentalhealth', 82),\n",
       " ('AEWDynamite', 82),\n",
       " ('NowPlaying', 80),\n",
       " ('Oscars', 78),\n",
       " ('Brewers', 78),\n",
       " ('Wrestlemania', 78),\n",
       " ('WomensHistoryMonth', 76),\n",
       " ('Crypto', 75),\n",
       " ('TheBachelor', 74)]"
      ]
     },
     "execution_count": 10,
     "metadata": {},
     "output_type": "execute_result"
    }
   ],
   "source": [
    "top_50_control_hashtags"
   ]
  },
  {
   "cell_type": "code",
   "execution_count": 11,
   "metadata": {},
   "outputs": [
    {
     "data": {
      "text/plain": [
       "[('ActuallyAutistic', 55111),\n",
       " ('autism', 20656),\n",
       " ('Autism', 11000),\n",
       " ('autistic', 10209),\n",
       " ('actuallyautistic', 9268),\n",
       " ('AskingAutistics', 7139),\n",
       " ('ADHD', 4406),\n",
       " ('AutismAwareness', 3554),\n",
       " ('AutismAcceptance', 3231),\n",
       " ('Autistic', 3115),\n",
       " ('Neurodiversity', 3049),\n",
       " ('autismawareness', 2816),\n",
       " ('mentalhealth', 2348),\n",
       " ('Neurodivergent', 2215),\n",
       " ('neurodiversity', 2094),\n",
       " ('WritingCommunity', 2054),\n",
       " ('autismacceptance', 1938),\n",
       " ('NintendoSwitch', 1923),\n",
       " ('AutismAcceptanceMonth', 1769),\n",
       " ('art', 1759),\n",
       " ('ASD', 1700),\n",
       " ('AllAutistics', 1589),\n",
       " ('DisabilityTwitter', 1445),\n",
       " ('NEISvoid', 1283),\n",
       " ('aspergers', 1234),\n",
       " ('adhd', 1189),\n",
       " ('COVID19', 1173),\n",
       " ('neurodivergent', 1161),\n",
       " ('MentalHealth', 1135),\n",
       " ('amwriting', 1122),\n",
       " ('SEND', 1070),\n",
       " ('asd', 1048),\n",
       " ('inclusion', 987),\n",
       " ('AuDHD', 953),\n",
       " ('anxiety', 930),\n",
       " ('disabled', 902),\n",
       " ('disability', 895),\n",
       " ('Disability', 795),\n",
       " ('digitalart', 775),\n",
       " ('ArtistOnTwitter', 747),\n",
       " ('education', 723),\n",
       " ('MentalHealthMatters', 699),\n",
       " ('AnimalCrossing', 672),\n",
       " ('ACNH', 671),\n",
       " ('vss365', 662),\n",
       " ('MHHSBD', 645),\n",
       " ('Aspergers', 642),\n",
       " ('depression', 632),\n",
       " ('neurodiversesquad', 625),\n",
       " ('support', 619)]"
      ]
     },
     "execution_count": 11,
     "metadata": {},
     "output_type": "execute_result"
    }
   ],
   "source": [
    "top_50_autism_hashtags"
   ]
  },
  {
   "cell_type": "code",
   "execution_count": 12,
   "metadata": {},
   "outputs": [
    {
     "data": {
      "image/png": "[encoded data removed]",
      "text/plain": [
       "<Figure size 1400x1000 with 2 Axes>"
      ]
     },
     "metadata": {},
     "output_type": "display_data"
    }
   ],
   "source": [
    "# Get the top 20 hashtags\n",
    "top_20_control_hashtags = control_hashtag_freq.most_common(20)\n",
    "top_20_autism_hashtags = autism_hashtag_freq.most_common(20)\n",
    "\n",
    "# Plot the top 20 hashtags comparison\n",
    "fig, axs = plt.subplots(2, 1, figsize=(14, 10))\n",
    "\n",
    "control_hashtags_df = pd.DataFrame(\n",
    "    top_20_control_hashtags, columns=['Hashtag', 'Count'])\n",
    "autism_hashtags_df = pd.DataFrame(\n",
    "    top_20_autism_hashtags, columns=['Hashtag', 'Count'])\n",
    "\n",
    "# Plot for Control Tweets\n",
    "axs[0].bar(control_hashtags_df.index,\n",
    "           control_hashtags_df['Count'], color='skyblue')\n",
    "axs[0].set_title('Top 20 Hashtags in Control Tweets')\n",
    "axs[0].set_xticks(control_hashtags_df.index)\n",
    "axs[0].set_xticklabels(control_hashtags_df['Hashtag'], rotation=90)\n",
    "for i, v in enumerate(control_hashtags_df['Count']):\n",
    "    axs[0].text(i, v + 0.5, str(v), ha='center', va='bottom')\n",
    "\n",
    "# Plot for Autism Tweets\n",
    "axs[1].bar(autism_hashtags_df.index,\n",
    "           autism_hashtags_df['Count'], color='lightgreen')\n",
    "axs[1].set_title('Top 20 Hashtags in Autism Tweets')\n",
    "axs[1].set_xticks(autism_hashtags_df.index)\n",
    "axs[1].set_xticklabels(autism_hashtags_df['Hashtag'], rotation=90)\n",
    "for i, v in enumerate(autism_hashtags_df['Count']):\n",
    "    axs[1].text(i, v + 0.5, str(v), ha='center', va='bottom')\n",
    "\n",
    "plt.tight_layout()\n",
    "plt.show()"
   ]
  },
  {
   "cell_type": "markdown",
   "metadata": {},
   "source": [
    "### topic modelling on \"Hashtags\": add another column which store 1 for all strings are about autism; 0 for nothing about autism; 2 for both"
   ]
  },
  {
   "cell_type": "code",
   "execution_count": 13,
   "metadata": {},
   "outputs": [
    {
     "data": {
      "text/plain": [
       "(                                             User_ID  \\\n",
       " 0  f313e088777ce93cfb3c9e5e9aa6532d7f2c7197bc18b1...   \n",
       " 1  a8ecfe6092e1115c42438cfed6cc79871d28699a40976c...   \n",
       " 2  f4cc135a7544cc1243031a3bdb06392e5392222592fbfb...   \n",
       " 3  c6231fc6a0ff4647907fe64eb3afb540f16418736eae66...   \n",
       " 4  bad9f49c9ab505f6e56c931c2049c77889e4de026f95ee...   \n",
       " \n",
       "                                  Profile description  Friends count  \\\n",
       " 0                                                NaN         1494.0   \n",
       " 1  We build Latina/x power in New York to secure ...         1575.0   \n",
       " 2  I PRAY FOR INCREASE 🙏🏿Jeremiah 29:11, living p...          135.0   \n",
       " 3     @yassizzle @louyanong @itsdredesu @lenirobredo          161.0   \n",
       " 4                                       Eric's Baby😻           58.0   \n",
       " \n",
       "   Followers count                 Tweet date             Tweet id  \\\n",
       " 0             321  2016-01-24 23:59:56+00:00   691410136271708160   \n",
       " 1            1231  2019-05-17 23:59:46+00:00  1129537022224424961   \n",
       " 2             131  2019-08-09 23:59:46+00:00  1159977601634570240   \n",
       " 3           13264  2019-08-08 23:59:44+00:00  1159615206894403584   \n",
       " 4              33  2019-08-22 23:59:35+00:00  1164688599524102150   \n",
       " \n",
       "                                           Tweet text  \\\n",
       " 0  next year tombrady make superbowl51-another qb...   \n",
       " 1  “ want add want ya document brings u joy ” - b...   \n",
       " 2  * * * * thought hampton grassfield 😭💀✊🏿 grizzl...   \n",
       " 3  hope waking dream . beautifulayf onmb ultimate...   \n",
       " 4           welcome back jinhobae showtimefullcharge   \n",
       " \n",
       "                        Hashtags                     Location  Reply count  \\\n",
       " 0  [TomBrady, SuperBowl51, NFL]                Mojave Desert          1.0   \n",
       " 1                    [BXLOLA19]    Lenape Land/New York City          0.0   \n",
       " 2                [GrizzlyPride]                          NaN          0.0   \n",
       " 3            [UltimateBig4onMB]  Republic of the Philippines          0.0   \n",
       " 4          [ShowtimeFullCharge]    General Trias, Calabarzon          0.0   \n",
       " \n",
       "    Retweet count  Like count  Tweet Text Sentiment  hashtag_top  \n",
       " 0            0.0         0.0                   2.0            0  \n",
       " 1            1.0         0.0                   2.0            0  \n",
       " 2            1.0         0.0                   0.0            0  \n",
       " 3            1.0         0.0                   2.0            0  \n",
       " 4            5.0         3.0                   2.0            0  ,\n",
       "                                              User_ID  \\\n",
       " 0  a3c541401a2776d4a4fac71a991eab6f59de824765e0c6...   \n",
       " 1  60b42b5f7ea6852aa5e81818ffe51019c7ec4e72c9021b...   \n",
       " 2  c27cdebc6a2ac4a7fbec4ebd50a7984070ab3ace3911b6...   \n",
       " 3  10235dc7c72acf5dda924d1404fcb5addd1499462bcd2b...   \n",
       " 4  3fa85d1a0ea7268383c65cea2f8cf824990b4527b117e6...   \n",
       " \n",
       "                                  Profile description  Friends count  \\\n",
       " 0  homeless. gen-x catholic folk witch. domestic ...          771.0   \n",
       " 1  Just a Homeless Chronically Ill Schizoaffectiv...         3692.0   \n",
       " 2  #LongCovid #actuallyautistic #POC lover of bea...        22230.0   \n",
       " 3          18+; they/them. radically soft. autistic.         1665.0   \n",
       " 4  I empower my fellow #ActuallyAutistic humans w...         2326.0   \n",
       " \n",
       "   Followers count                 Tweet date             Tweet id  \\\n",
       " 0             752  2022-12-31 20:15:30+00:00  1609282116965257219   \n",
       " 1            1733  2022-12-31 20:13:32+00:00  1609281620657467398   \n",
       " 2           22401  2022-12-31 19:22:11+00:00  1609268700187709450   \n",
       " 3           10661  2022-12-31 15:47:37+00:00  1609214700553900035   \n",
       " 4            7055  2022-12-31 15:33:13+00:00  1609211080013938690   \n",
       " \n",
       "                                           Tweet text  \\\n",
       " 0  goal week $ 650 : $ 530 weekly rent , $ 100 gr...   \n",
       " 1  anyone help $ 50 shelter ? 🥺 family 8 ( mostly...   \n",
       " 2  actuallyautistic question . see someone care l...   \n",
       " 3  there many reason anxious . white supremacy , ...   \n",
       " 4  actuallyautistic comrade want see change world...   \n",
       " \n",
       "                                             Hashtags  \\\n",
       " 0  [helpfolkslive2022, mutualaidrequest, actually...   \n",
       " 1  [EmergencyCrowdFund, TwitterPhilanthropy, Disa...   \n",
       " 2                                 [ActuallyAutistic]   \n",
       " 3                                 [ActuallyAutistic]   \n",
       " 4  [ActuallyAutistic, autism, Neurodiversity, Ask...   \n",
       " \n",
       "                       Location  Reply count  Retweet count  Like count  \\\n",
       " 0                          NaN          0.0           35.0        24.0   \n",
       " 1  https://ko-fi.com/thechasms          2.0            7.0         4.0   \n",
       " 2          South West, England         11.0            1.0        45.0   \n",
       " 3                         Here          0.0            1.0         4.0   \n",
       " 4                        Paris          7.0            0.0        15.0   \n",
       " \n",
       "    Tweet Text Sentiment  hashtag_top  \n",
       " 0                   0.0            2  \n",
       " 1                   0.0            2  \n",
       " 2                  -2.0            1  \n",
       " 3                  -2.0            1  \n",
       " 4                   0.0            2  )"
      ]
     },
     "execution_count": 13,
     "metadata": {},
     "output_type": "execute_result"
    }
   ],
   "source": [
    "# Define the list of autism-related hashtags\n",
    "autism_related_hashtags = [\n",
    "    'ActuallyAutistic', 'AskingAutistics', 'actuallyautistic', 'ADHD', 'autism', 'Neurodivergent', 'AuDHD', 'autistic', 'Autism', \n",
    "    'MentalHealth', 'AutisticTwitter','adhd', 'asd', 'aspie', 'MentalIllness', 'MentalHealthMatters','AutismAwareness', 'AutismAcceptance', \n",
    "    'autismawareness', 'Autistic','ASD', 'autismacceptance', 'Neurodivergent', 'aspergers', 'AllAutistics', 'neurodivergent',\n",
    "    'DisabilityTwitter',  'depression','Aspergers', 'Disability',  'MentalHealthAwareness', 'autchat',\n",
    "    'PTSD', 'neurodiversesquad', 'AutismAwarenessMonth', 'adhdtwitter', 'CPTSD', 'StopTheShock', 'Activate4Autism', 'awesomism'\n",
    "]\n",
    "\n",
    "# Function to determine the value of 'hashtag_top'\n",
    "def determine_hashtag_top(hashtags):\n",
    "    if not hashtags:\n",
    "        return 0\n",
    "    autism_tags = [tag for tag in hashtags if tag in autism_related_hashtags]\n",
    "    if len(autism_tags) == len(hashtags):\n",
    "        return 1\n",
    "    elif len(autism_tags) == 0:\n",
    "        return 0\n",
    "    else:\n",
    "        return 2\n",
    "\n",
    "\n",
    "# Apply the function to create the 'hashtag_top' column\n",
    "control_tweets_df['hashtag_top'] = control_tweets_df['Hashtags'].apply(\n",
    "    determine_hashtag_top)\n",
    "autism_tweets_df['hashtag_top'] = autism_tweets_df['Hashtags'].apply(\n",
    "    determine_hashtag_top)\n",
    "\n",
    "# Display the first few rows of the updated DataFrames\n",
    "control_tweets_df.head(), autism_tweets_df.head()"
   ]
  },
  {
   "cell_type": "markdown",
   "metadata": {},
   "source": [
    "# save the final files for network, user-interaction network"
   ]
  },
  {
   "cell_type": "code",
   "execution_count": 14,
   "metadata": {},
   "outputs": [],
   "source": [
    "# Ensure counts are integers and handle NaNs\n",
    "control_tweets_df['Reply count'] = control_tweets_df['Reply count'].fillna(0).astype(int)\n",
    "control_tweets_df['Retweet count'] = control_tweets_df['Retweet count'].fillna(0).astype(int)\n",
    "control_tweets_df['Like count'] = control_tweets_df['Like count'].fillna(0).astype(int)\n",
    "\n",
    "autism_tweets_df['Reply count'] = autism_tweets_df['Reply count'].fillna(0).astype(int)\n",
    "autism_tweets_df['Retweet count'] = autism_tweets_df['Retweet count'].fillna(0).astype(int)\n",
    "autism_tweets_df['Like count'] = autism_tweets_df['Like count'].fillna(0).astype(int)"
   ]
  },
  {
   "cell_type": "code",
   "execution_count": 15,
   "metadata": {},
   "outputs": [
    {
     "data": {
      "text/plain": [
       "<bound method NDFrame.describe of                                                  User_ID  \\\n",
       "0      f313e088777ce93cfb3c9e5e9aa6532d7f2c7197bc18b1...   \n",
       "1      a8ecfe6092e1115c42438cfed6cc79871d28699a40976c...   \n",
       "2      f4cc135a7544cc1243031a3bdb06392e5392222592fbfb...   \n",
       "3      c6231fc6a0ff4647907fe64eb3afb540f16418736eae66...   \n",
       "4      bad9f49c9ab505f6e56c931c2049c77889e4de026f95ee...   \n",
       "...                                                  ...   \n",
       "59864  779e32619786dd6f124d378f73995e217a8fe743f70865...   \n",
       "59865  6fa9d6094467d9329a1ccc6583432847a0ebd8d0b8eada...   \n",
       "59866  e1fe71d9de2a2470a597a69aa58d846e6a3fda0490e66b...   \n",
       "59867  c0ccf7d6df8a85b3d6f410bbbfc1f4db0eb12075b0eeca...   \n",
       "59868  6d3601b718731af3b0d0a667acb6672e85a35b62a34310...   \n",
       "\n",
       "                                     Profile description  Friends count  \\\n",
       "0                                                    NaN         1494.0   \n",
       "1      We build Latina/x power in New York to secure ...         1575.0   \n",
       "2      I PRAY FOR INCREASE 🙏🏿Jeremiah 29:11, living p...          135.0   \n",
       "3         @yassizzle @louyanong @itsdredesu @lenirobredo          161.0   \n",
       "4                                           Eric's Baby😻           58.0   \n",
       "...                                                  ...            ...   \n",
       "59864                                                 🏳️          147.0   \n",
       "59865                                                NaN          189.0   \n",
       "59866        Husband | Dad | Pastor | Investor | Realtor         3055.0   \n",
       "59867                                   @youngrisingsons          627.0   \n",
       "59868                                    🇵🇷 from the 2o3          352.0   \n",
       "\n",
       "      Followers count                 Tweet date             Tweet id  \\\n",
       "0                 321  2016-01-24 23:59:56+00:00   691410136271708160   \n",
       "1                1231  2019-05-17 23:59:46+00:00  1129537022224424961   \n",
       "2                 131  2019-08-09 23:59:46+00:00  1159977601634570240   \n",
       "3               13264  2019-08-08 23:59:44+00:00  1159615206894403584   \n",
       "4                  33  2019-08-22 23:59:35+00:00  1164688599524102150   \n",
       "...               ...                        ...                  ...   \n",
       "59864             113  2014-02-28 23:59:57+00:00   439550571326865408   \n",
       "59865             239  2014-02-28 23:59:57+00:00   439550570248937472   \n",
       "59866            1572  2014-02-28 23:59:56+00:00   439550569284243456   \n",
       "59867            1372  2014-02-28 23:59:56+00:00   439550568940711937   \n",
       "59868             257  2014-02-28 23:59:56+00:00   439550567921516544   \n",
       "\n",
       "                                              Tweet text  \\\n",
       "0      next year tombrady make superbowl51-another qb...   \n",
       "1      “ want add want ya document brings u joy ” - b...   \n",
       "2      * * * * thought hampton grassfield 😭💀✊🏿 grizzl...   \n",
       "3      hope waking dream . beautifulayf onmb ultimate...   \n",
       "4               welcome back jinhobae showtimefullcharge   \n",
       "...                                                  ...   \n",
       "59864                             tawau go . mabulisland   \n",
       "59865             s/o boy named oua rookie team ! shoota   \n",
       "59866  place 're longer contain destiny . though u ma...   \n",
       "59867  steve aoki april 10th connecticut girl letsdot...   \n",
       "59868                           girl ai n't loyal savage   \n",
       "\n",
       "                           Hashtags                     Location  Reply count  \\\n",
       "0      [TomBrady, SuperBowl51, NFL]                Mojave Desert            1   \n",
       "1                        [BXLOLA19]    Lenape Land/New York City            0   \n",
       "2                    [GrizzlyPride]                          NaN            0   \n",
       "3                [UltimateBig4onMB]  Republic of the Philippines            0   \n",
       "4              [ShowtimeFullCharge]    General Trias, Calabarzon            0   \n",
       "...                             ...                          ...          ...   \n",
       "59864                 [MabulIsland]             Klang , selangor            0   \n",
       "59865                      [shoota]                          NaN            0   \n",
       "59866                      [deeper]               Cincinnati, OH            1   \n",
       "59867            [letsdothis, rage]                New York, USA            1   \n",
       "59868                      [savage]                  danbury, ct            0   \n",
       "\n",
       "       Retweet count  Like count  Tweet Text Sentiment  hashtag_top  \n",
       "0                  0           0                   2.0            0  \n",
       "1                  1           0                   2.0            0  \n",
       "2                  1           0                   0.0            0  \n",
       "3                  1           0                   2.0            0  \n",
       "4                  5           3                   2.0            0  \n",
       "...              ...         ...                   ...          ...  \n",
       "59864              1           0                   0.0            0  \n",
       "59865              1           0                   0.0            0  \n",
       "59866              1           1                   0.0            0  \n",
       "59867              0           2                   2.0            0  \n",
       "59868              1           2                  -2.0            0  \n",
       "\n",
       "[59869 rows x 14 columns]>"
      ]
     },
     "execution_count": 15,
     "metadata": {},
     "output_type": "execute_result"
    }
   ],
   "source": [
    "control_tweets_df.describe"
   ]
  },
  {
   "cell_type": "code",
   "execution_count": 17,
   "metadata": {},
   "outputs": [],
   "source": [
    "# Select relevant columns\n",
    "columns = ['User_ID', 'Tweet id', 'Tweet date', 'Retweet count', 'Tweet text', \n",
    "           'Reply count', 'Tweet Text Sentiment', 'hashtag_top', 'Like count']\n",
    "\n",
    "control_user_df = control_tweets_df[columns]\n",
    "autism_user_df = autism_tweets_df[columns]\n",
    "\n",
    "# Filter rows to keep only those with 'Tweet id' appearing multiple times\n",
    "control_user_df = control_user_df[control_user_df['Retweet count'] > 0]\n",
    "autism_user_df = autism_user_df[autism_user_df['Retweet count'] > 0]"
   ]
  },
  {
   "cell_type": "code",
   "execution_count": 18,
   "metadata": {},
   "outputs": [
    {
     "name": "stdout",
     "output_type": "stream",
     "text": [
      "New total number of rows: 41157\n",
      "New total number of rows: 189664\n"
     ]
    }
   ],
   "source": [
    "print(\"New total number of rows:\", control_user_df.shape[0])\n",
    "print(\"New total number of rows:\", autism_user_df.shape[0])"
   ]
  },
  {
   "cell_type": "code",
   "execution_count": 19,
   "metadata": {},
   "outputs": [
    {
     "data": {
      "image/png": "[encoded data removed]",
      "text/plain": [
       "<Figure size 1200x600 with 1 Axes>"
      ]
     },
     "metadata": {},
     "output_type": "display_data"
    },
    {
     "name": "stdout",
     "output_type": "stream",
     "text": [
      "Chi-Square Test Results:\n",
      "Chi2 Statistic: 3.7218327913723703\n",
      "P-value: 0.4449584356974774\n",
      "There is no significant difference in the sentiment distributions between the two groups.\n"
     ]
    }
   ],
   "source": [
    "# Extract sentiment distributions\n",
    "control_sentiment_dist = control_tweets_df['Tweet Text Sentiment'].value_counts(\n",
    "    normalize=True)\n",
    "autism_sentiment_dist = autism_tweets_df['Tweet Text Sentiment'].value_counts(\n",
    "    normalize=True)\n",
    "\n",
    "# Combine sentiment distributions into a DataFrame for visualization\n",
    "sentiment_dist_df = pd.DataFrame({\n",
    "    'Sentiment': control_sentiment_dist.index,\n",
    "    'Control': control_sentiment_dist.values,\n",
    "    'Autism': autism_sentiment_dist.reindex(control_sentiment_dist.index).fillna(0).values\n",
    "}).melt(id_vars='Sentiment', var_name='Dataset', value_name='Proportion')\n",
    "\n",
    "# Visualize sentiment distributions\n",
    "plt.figure(figsize=(12, 6))\n",
    "sns.barplot(x='Sentiment', y='Proportion',\n",
    "            hue='Dataset', data=sentiment_dist_df)\n",
    "plt.title('Sentiment Distribution Comparison')\n",
    "plt.xlabel('Sentiment')\n",
    "plt.ylabel('Proportion')\n",
    "plt.show()\n",
    "\n",
    "# Statistical test: Chi-Square test of independence\n",
    "contingency_table = pd.crosstab(\n",
    "    control_tweets_df['Tweet Text Sentiment'], autism_tweets_df['Tweet Text Sentiment'])\n",
    "chi2, p, dof, ex = chi2_contingency(contingency_table)\n",
    "\n",
    "print(f\"Chi-Square Test Results:\\nChi2 Statistic: {chi2}\\nP-value: {p}\")\n",
    "\n",
    "# Interpretation based on p-value\n",
    "if p < 0.05:\n",
    "    print(\"The sentiment distributions between the two groups are significantly different.\")\n",
    "else:\n",
    "    print(\"There is no significant difference in the sentiment distributions between the two groups.\")"
   ]
  },
  {
   "cell_type": "code",
   "execution_count": 20,
   "metadata": {},
   "outputs": [
    {
     "name": "stdout",
     "output_type": "stream",
     "text": [
      "Filtered control user data saved to /Users/xuenichen/Desktop/BEF_Chen/dataset/control_user-.csv\n",
      "Filtered autism user data saved to /Users/xuenichen/Desktop/BEF_Chen/dataset/autism_user-.csv\n"
     ]
    }
   ],
   "source": [
    "# Save the filtered data to new CSV files\n",
    "filtered_control_user_file = '/Users/xuenichen/Desktop/BEF_Chen/dataset/control_user-.csv'\n",
    "filtered_autism_user_file = '/Users/xuenichen/Desktop/BEF_Chen/dataset/autism_user-.csv'\n",
    "\n",
    "control_user_df.to_csv(filtered_control_user_file, index=False)\n",
    "autism_user_df.to_csv(filtered_autism_user_file, index=False)\n",
    "\n",
    "print(f\"Filtered control user data saved to {filtered_control_user_file}\")\n",
    "print(f\"Filtered autism user data saved to {filtered_autism_user_file}\")"
   ]
  },
  {
   "cell_type": "code",
   "execution_count": null,
   "metadata": {},
   "outputs": [],
   "source": []
  },
  {
   "cell_type": "code",
   "execution_count": null,
   "metadata": {},
   "outputs": [],
   "source": []
  },
  {
   "cell_type": "code",
   "execution_count": null,
   "metadata": {},
   "outputs": [],
   "source": []
  },
  {
   "cell_type": "code",
   "execution_count": null,
   "metadata": {},
   "outputs": [],
   "source": []
  },
  {
   "cell_type": "code",
   "execution_count": null,
   "metadata": {},
   "outputs": [],
   "source": []
  },
  {
   "cell_type": "code",
   "execution_count": null,
   "metadata": {},
   "outputs": [],
   "source": []
  }
 ],
 "metadata": {
  "kernelspec": {
   "display_name": "base",
   "language": "python",
   "name": "python3"
  },
  "language_info": {
   "codemirror_mode": {
    "name": "ipython",
    "version": 3
   },
   "file_extension": ".py",
   "mimetype": "text/x-python",
   "name": "python",
   "nbconvert_exporter": "python",
   "pygments_lexer": "ipython3",
   "version": "3.11.9"
  }
 },
 "nbformat": 4,
 "nbformat_minor": 2
}
